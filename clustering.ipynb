{
 "cells": [
  {
   "cell_type": "code",
   "execution_count": 6,
   "metadata": {},
   "outputs": [],
   "source": [
    "# helper functions\n",
    "from datascience.linear_algebra import Vector\n",
    "\n",
    "# to measure how many corrdinates two vectors differ in\n",
    "def num_differences(v1: Vector, v2: Vector) -> int:\n",
    "    assert len(v1) == len(v2)\n",
    "    return len([x1 for x1, x2 in zip(v1, v2) if x1 != x2])\n",
    "\n",
    "\n",
    "assert num_differences([3,5,7], [5,3,7]) == 2\n",
    "assert num_differences([1,3,5,7], [1,3,5,7]) == 0\n",
    "\n",
    "# given some vectors and their assignments to clusters,\n",
    "# computes the means of the clusters\n",
    "from typing import List\n",
    "from datascience.linear_algebra import vector_mean\n",
    "\n",
    "def cluster_means(k: int, \n",
    "                 inputs: List[Vector],\n",
    "                 assignments: List[int]) -> List[Vector]:\n",
    "    # clusters[i] contains the inputs whose assignment is i\n",
    "    clusters = [[] for i in range(k)]\n",
    "    for input, assignment in zip(inputs, assignments):\n",
    "        clusters[assignment].append(input)\n",
    "    \n",
    "    return [vector_mean(cluster) if cluster else random.choice(inputs)\n",
    "           for cluster in clusters]"
   ]
  },
  {
   "cell_type": "code",
   "execution_count": 7,
   "metadata": {},
   "outputs": [],
   "source": [
    "import itertools\n",
    "import random\n",
    "import tqdm\n",
    "from datascience.linear_algebra import squared_distance\n",
    "\n",
    "class KMeans:\n",
    "    def __init__(self, k: int) -> None:\n",
    "        self.k = k           # number of clusters\n",
    "        self.means = None\n",
    "    \n",
    "    def classify(self, input: Vector) -> int:\n",
    "        \"\"\"Returns the index of the cluster closest to the input\"\"\"\n",
    "        return min(range(self.k),\n",
    "                  key =lambda i: squared_distance(input, self.means[i]))\n",
    "    \n",
    "    def train(self, inputs: List[Vector]) -> None:\n",
    "        # Starts with random assignments\n",
    "        assignments = [random.randrange(self.k) for _ in inputs]\n",
    "        print(assignments)\n",
    "        \n",
    "        with tqdm.tqdm(itertools.count()) as t:\n",
    "            for _ in t:\n",
    "                # Computes means and find new assignments\n",
    "                self.means = cluster_means(self.k, inputs, assignments)\n",
    "                new_assignments = [self.classify(input) for input in inputs]\n",
    "                \n",
    "                # Checks how many assignments change and if we're done\n",
    "                num_changed = num_differences(assignments, new_assignments)\n",
    "                \n",
    "                if num_changed == 0:\n",
    "                    return\n",
    "                \n",
    "                # otherwise keep the new assignments, and computes new means\n",
    "                assignments = new_assignments\n",
    "                self.means = cluster_means(self.k, inputs, assignments)\n",
    "                t.set_description(f\"changed: {num_changed} / {len(inputs)}\")     "
   ]
  },
  {
   "cell_type": "code",
   "execution_count": 8,
   "metadata": {},
   "outputs": [
    {
     "name": "stderr",
     "output_type": "stream",
     "text": [
      "changed: 11 / 20: : 0it [00:00, ?it/s]\n",
      "changed: 4 / 20: : 0it [00:00, ?it/s]\n"
     ]
    }
   ],
   "source": [
    "def main():\n",
    "    inputs: List[List[float]] = [[-14,-5],[13,13],[20,23],[-19,-11],[-9,-16],[21,27],\n",
    "                                 [-49,15],[26,13],[-46,5],[-34,-1],[11,15],[-49,0],[-22,-16],[19,28],\n",
    "                                 [-12,-8],[-13,-19],[-41,8],[-11,-6],[-25,-9],[-18,-3]]\n",
    "    \n",
    "    random.seed(10)\n",
    "    clusterer = KMeans(k = 3)\n",
    "    clusterer.train(inputs)\n",
    "    means = sorted(clusterer.means)\n",
    "    \n",
    "    assert len(means) == 3\n",
    "    \n",
    "    # Check that the means are close to what we expect.\n",
    "    assert squared_distance(means[0], [-44, 5]) < 1\n",
    "    assert squared_distance(means[1], [-16, -10]) < 1\n",
    "    assert squared_distance(means[2], [18, 20]) < 1\n",
    "    \n",
    "    random.seed(0)\n",
    "    clusterer = KMeans(k=2)\n",
    "    clusterer.train(inputs)\n",
    "    means = sorted(clusterer.means)\n",
    "\n",
    "    assert len(means) == 2\n",
    "    assert squared_distance(means[0], [-26, -5]) < 1\n",
    "    assert squared_distance(means[1], [18, 20]) < 1\n",
    "\n",
    "if __name__ == \"__main__\": main()\n",
    "        "
   ]
  },
  {
   "cell_type": "code",
   "execution_count": null,
   "metadata": {},
   "outputs": [],
   "source": []
  }
 ],
 "metadata": {
  "kernelspec": {
   "display_name": "Python 3",
   "language": "python",
   "name": "python3"
  },
  "language_info": {
   "codemirror_mode": {
    "name": "ipython",
    "version": 3
   },
   "file_extension": ".py",
   "mimetype": "text/x-python",
   "name": "python",
   "nbconvert_exporter": "python",
   "pygments_lexer": "ipython3",
   "version": "3.7.6"
  }
 },
 "nbformat": 4,
 "nbformat_minor": 4
}
