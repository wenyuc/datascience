{
 "cells": [
  {
   "cell_type": "code",
   "execution_count": 1,
   "metadata": {},
   "outputs": [],
   "source": [
    "users_interests = [\n",
    "[\"Hadoop\", \"Big Data\", \"HBase\", \"Java\", \"Spark\", \"Storm\", \"Cassandra\"],\n",
    "[\"NoSQL\", \"MongoDB\", \"Cassandra\", \"HBase\", \"Postgres\"],\n",
    "[\"Python\", \"scikit-learn\", \"scipy\", \"numpy\", \"statsmodels\", \"pandas\"],\n",
    "[\"R\", \"Python\", \"statistics\", \"regression\", \"probability\"],\n",
    "[\"machine learning\", \"regression\", \"decision trees\", \"libsvm\"],\n",
    "[\"Python\", \"R\", \"Java\", \"C++\", \"Haskell\", \"programming languages\"],\n",
    "[\"statistics\", \"probability\", \"mathematics\", \"theory\"],\n",
    "[\"machine learning\", \"scikit-learn\", \"Mahout\", \"neural networks\"],\n",
    "[\"neural networks\", \"deep learning\", \"Big Data\", \"artificial intelligence\"],\n",
    "[\"Hadoop\", \"Java\", \"MapReduce\", \"Big Data\"],\n",
    "[\"statistics\", \"R\", \"statsmodels\"],\n",
    "[\"C++\", \"deep learning\", \"artificial intelligence\", \"probability\"],\n",
    "[\"pandas\", \"R\", \"Python\"],\n",
    "[\"databases\", \"HBase\", \"Postgres\", \"MySQL\", \"MongoDB\"],\n",
    "[\"libsvm\", \"regression\", \"support vector machines\"]\n",
    "]\n"
   ]
  },
  {
   "cell_type": "code",
   "execution_count": 2,
   "metadata": {},
   "outputs": [
    {
     "data": {
      "text/plain": [
       "Counter({'Hadoop': 2,\n",
       "         'Big Data': 3,\n",
       "         'HBase': 3,\n",
       "         'Java': 3,\n",
       "         'Spark': 1,\n",
       "         'Storm': 1,\n",
       "         'Cassandra': 2,\n",
       "         'NoSQL': 1,\n",
       "         'MongoDB': 2,\n",
       "         'Postgres': 2,\n",
       "         'Python': 4,\n",
       "         'scikit-learn': 2,\n",
       "         'scipy': 1,\n",
       "         'numpy': 1,\n",
       "         'statsmodels': 2,\n",
       "         'pandas': 2,\n",
       "         'R': 4,\n",
       "         'statistics': 3,\n",
       "         'regression': 3,\n",
       "         'probability': 3,\n",
       "         'machine learning': 2,\n",
       "         'decision trees': 1,\n",
       "         'libsvm': 2,\n",
       "         'C++': 2,\n",
       "         'Haskell': 1,\n",
       "         'programming languages': 1,\n",
       "         'mathematics': 1,\n",
       "         'theory': 1,\n",
       "         'Mahout': 1,\n",
       "         'neural networks': 2,\n",
       "         'deep learning': 2,\n",
       "         'artificial intelligence': 2,\n",
       "         'MapReduce': 1,\n",
       "         'databases': 1,\n",
       "         'MySQL': 1,\n",
       "         'support vector machines': 1})"
      ]
     },
     "execution_count": 2,
     "metadata": {},
     "output_type": "execute_result"
    }
   ],
   "source": [
    "from collections import Counter\n",
    "\n",
    "popular_interests = Counter(interest\n",
    "                           for user_interests in users_interests\n",
    "                           for interest in user_interests)\n",
    "popular_interests"
   ]
  },
  {
   "cell_type": "code",
   "execution_count": 3,
   "metadata": {},
   "outputs": [],
   "source": [
    "from typing import List, Tuple\n",
    "def most_popular_new_interests(user_interests: List[str],\n",
    "                              max_results: int = 5) -> List[Tuple[str, int]]:\n",
    "    suggestions = [(interest, frequency)\n",
    "                  for interest, frequency in popular_interests.most_common()\n",
    "                  if interest not in user_interests]\n",
    "    return suggestions[:max_results]"
   ]
  },
  {
   "cell_type": "code",
   "execution_count": 4,
   "metadata": {},
   "outputs": [
    {
     "data": {
      "text/plain": [
       "[('Python', 4), ('R', 4), ('Big Data', 3), ('Java', 3), ('statistics', 3)]"
      ]
     },
     "execution_count": 4,
     "metadata": {},
     "output_type": "execute_result"
    }
   ],
   "source": [
    "most_popular_new_interests([\"NoSQL\", \"MongoDB\", \"Cassandra\", \"HBase\", \"Postgres\"])"
   ]
  },
  {
   "cell_type": "code",
   "execution_count": 8,
   "metadata": {},
   "outputs": [
    {
     "name": "stdout",
     "output_type": "stream",
     "text": [
      "['Big Data', 'C++', 'Cassandra', 'HBase', 'Hadoop', 'Haskell', 'Java', 'Mahout', 'MapReduce', 'MongoDB', 'MySQL', 'NoSQL', 'Postgres', 'Python', 'R', 'Spark', 'Storm', 'artificial intelligence', 'databases', 'decision trees', 'deep learning', 'libsvm', 'machine learning', 'mathematics', 'neural networks', 'numpy', 'pandas', 'probability', 'programming languages', 'regression', 'scikit-learn', 'scipy', 'statistics', 'statsmodels', 'support vector machines', 'theory']\n"
     ]
    }
   ],
   "source": [
    "unique_interests = sorted({interest\n",
    "                          for user_interests in users_interests\n",
    "                          for interest in user_interests})\n",
    "print(unique_interests)\n",
    "if 0:\n",
    "    assert unique_interests[:6] == [\n",
    "        \"Big Data\",\n",
    "        \"C++\",\n",
    "        \"Cassandra\",\n",
    "        \"HBase\",\n",
    "        \"Hadoop\",\n",
    "        \"Haskell\",\n",
    "    ]"
   ]
  },
  {
   "cell_type": "code",
   "execution_count": 6,
   "metadata": {},
   "outputs": [],
   "source": [
    "from typing import List\n",
    "def make_user_interest_vector(user_interests: List[str]) -> List[int]:\n",
    "    \"\"\"Given a list of interests, produce a vector whose ith element is 1\n",
    "       if unique_interests[i] is in the list, 0 otherwise.\"\"\"\n",
    "    return [1 if interest in user_interests else 0\n",
    "              for interest in unique_interests]"
   ]
  },
  {
   "cell_type": "code",
   "execution_count": 7,
   "metadata": {},
   "outputs": [
    {
     "data": {
      "text/plain": [
       "[1,\n",
       " 0,\n",
       " 1,\n",
       " 1,\n",
       " 1,\n",
       " 0,\n",
       " 1,\n",
       " 0,\n",
       " 0,\n",
       " 0,\n",
       " 0,\n",
       " 0,\n",
       " 0,\n",
       " 0,\n",
       " 0,\n",
       " 1,\n",
       " 1,\n",
       " 0,\n",
       " 0,\n",
       " 0,\n",
       " 0,\n",
       " 0,\n",
       " 0,\n",
       " 0,\n",
       " 0,\n",
       " 0,\n",
       " 0,\n",
       " 0,\n",
       " 0,\n",
       " 0,\n",
       " 0,\n",
       " 0,\n",
       " 0,\n",
       " 0,\n",
       " 0,\n",
       " 0]"
      ]
     },
     "execution_count": 7,
     "metadata": {},
     "output_type": "execute_result"
    }
   ],
   "source": [
    "interest_vector = make_user_interest_vector([\"Hadoop\", \"Big Data\", \"HBase\", \"Java\", \"Spark\", \"Storm\", \"Cassandra\"])\n",
    "interest_vector"
   ]
  },
  {
   "cell_type": "code",
   "execution_count": null,
   "metadata": {},
   "outputs": [],
   "source": []
  }
 ],
 "metadata": {
  "kernelspec": {
   "display_name": "Python 3",
   "language": "python",
   "name": "python3"
  },
  "language_info": {
   "codemirror_mode": {
    "name": "ipython",
    "version": 3
   },
   "file_extension": ".py",
   "mimetype": "text/x-python",
   "name": "python",
   "nbconvert_exporter": "python",
   "pygments_lexer": "ipython3",
   "version": "3.7.4"
  }
 },
 "nbformat": 4,
 "nbformat_minor": 2
}
